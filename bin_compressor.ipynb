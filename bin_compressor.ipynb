{
 "cells": [
  {
   "cell_type": "code",
   "execution_count": 2,
   "metadata": {},
   "outputs": [],
   "source": [
    "from PIL import Image\n",
    "import os\n",
    "import sys\n",
    "import math\n",
    "import matplotlib.pyplot as plt\n",
    "from ast import literal_eval"
   ]
  },
  {
   "cell_type": "code",
   "execution_count": 1,
   "metadata": {},
   "outputs": [],
   "source": [
    "def get_gc_map(file_name: str, group_constant_range: list = [10+i for i in range(20)]) -> dict:\n",
    "    img = Image.open(file_name)\n",
    "\n",
    "    with open(file_name, \"rb\") as image:\n",
    "        f = image.read()\n",
    "        b = bytearray(f)\n",
    "        binary = ''.join(format(ord(i), '08b') for i in str(b))\n",
    "    binary_length = len(binary)\n",
    "    gc_map = dict()\n",
    "    \n",
    "    for group_constant in group_constant_range:\n",
    "        bin_list = list()\n",
    "        sub_list = list()\n",
    "        n = 0\n",
    "        for i in binary:\n",
    "            if len(sub_list) < group_constant:\n",
    "                sub_list.append(i)\n",
    "            else:\n",
    "                bin_list.append(str(sub_list))\n",
    "                sub_list = list()\n",
    "            gc_map[group_constant] = len(set(bin_list))\n",
    "            \n",
    "            pr = f\"{math.ceil((n/binary_length)*100)}%   [GC {group_constant}]\"\n",
    "            sys.stdout.write('\\r'+pr)\n",
    "            n+=1\n",
    "        print(f\"GROUP CONSTANT {group_constant} Calculation Complete\")\n",
    "    return gc_map"
   ]
  },
  {
   "cell_type": "code",
   "execution_count": 2,
   "metadata": {},
   "outputs": [],
   "source": [
    "def get_bn_len(file_name: str) -> int:\n",
    "    with open(file_name, \"rb\") as image:\n",
    "        f = image.read()\n",
    "        b = bytearray(f)\n",
    "        binary = ''.join(format(ord(i), '08b') for i in str(b))\n",
    "    binary_length = len(binary)\n",
    "    return binary_length"
   ]
  },
  {
   "cell_type": "code",
   "execution_count": 8,
   "metadata": {},
   "outputs": [
    {
     "name": "stdout",
     "output_type": "stream",
     "text": [
      "100%   [GC 10]GROUP CONSTANT 10 Calculation Complete\n",
      "100%   [GC 11]GROUP CONSTANT 11 Calculation Complete\n",
      "100%   [GC 12]GROUP CONSTANT 12 Calculation Complete\n",
      "100%   [GC 13]GROUP CONSTANT 13 Calculation Complete\n",
      "100%   [GC 14]GROUP CONSTANT 14 Calculation Complete\n",
      "100%   [GC 15]GROUP CONSTANT 15 Calculation Complete\n",
      "100%   [GC 16]GROUP CONSTANT 16 Calculation Complete\n",
      "100%   [GC 17]GROUP CONSTANT 17 Calculation Complete\n",
      "100%   [GC 18]GROUP CONSTANT 18 Calculation Complete\n",
      "100%   [GC 19]GROUP CONSTANT 19 Calculation Complete\n",
      "100%   [GC 20]GROUP CONSTANT 20 Calculation Complete\n",
      "100%   [GC 21]GROUP CONSTANT 21 Calculation Complete\n",
      "100%   [GC 22]GROUP CONSTANT 22 Calculation Complete\n",
      "100%   [GC 23]GROUP CONSTANT 23 Calculation Complete\n",
      "100%   [GC 24]GROUP CONSTANT 24 Calculation Complete\n",
      "100%   [GC 25]GROUP CONSTANT 25 Calculation Complete\n",
      "100%   [GC 26]GROUP CONSTANT 26 Calculation Complete\n",
      "100%   [GC 27]GROUP CONSTANT 27 Calculation Complete\n",
      "100%   [GC 28]GROUP CONSTANT 28 Calculation Complete\n",
      "100%   [GC 29]GROUP CONSTANT 29 Calculation Complete\n"
     ]
    }
   ],
   "source": [
    "gc_map = get_gc_map(\"cat.jpeg\")"
   ]
  },
  {
   "cell_type": "code",
   "execution_count": 9,
   "metadata": {},
   "outputs": [
    {
     "data": {
      "text/plain": "{10: 797,\n 11: 618,\n 12: 1542,\n 13: 1417,\n 14: 2206,\n 15: 978,\n 16: 2577,\n 17: 2115,\n 18: 2814,\n 19: 1788,\n 20: 2988,\n 21: 2400,\n 22: 3064,\n 23: 1570,\n 24: 3244,\n 25: 2662,\n 26: 3414,\n 27: 2266,\n 28: 3654,\n 29: 3059}"
     },
     "execution_count": 9,
     "metadata": {},
     "output_type": "execute_result"
    }
   ],
   "source": [
    "gc_map"
   ]
  },
  {
   "cell_type": "code",
   "execution_count": 10,
   "metadata": {},
   "outputs": [],
   "source": [
    "def count_chr_from_gc(gc_map: dict) -> int:\n",
    "    chr_cnt_map = dict()\n",
    "    for gc, noc in gc_map.items():\n",
    "        gc_bin = bin(gc)\n",
    "        chr_cnt = len(str(gc_bin)) + noc*(gc + 2*math.ceil(math.log(noc)/math.log(2)) + 2) - 1\n",
    "        chr_cnt_map[gc] = chr_cnt\n",
    "    return chr_cnt_map"
   ]
  },
  {
   "cell_type": "code",
   "execution_count": 11,
   "metadata": {},
   "outputs": [
    {
     "data": {
      "text/plain": "{10: 25509,\n 11: 20399,\n 12: 55517,\n 13: 52434,\n 14: 88245,\n 15: 36191,\n 16: 108240,\n 17: 90951,\n 18: 123822,\n 19: 76890,\n 20: 137454,\n 21: 112806,\n 22: 147078,\n 23: 73796,\n 24: 162206,\n 25: 135768,\n 26: 177534,\n 27: 120104,\n 28: 197322,\n 29: 168251}"
     },
     "execution_count": 11,
     "metadata": {},
     "output_type": "execute_result"
    }
   ],
   "source": [
    "chr_cnt_map = count_chr_from_gc(gc_map)\n",
    "chr_cnt_map"
   ]
  },
  {
   "cell_type": "code",
   "execution_count": 18,
   "metadata": {},
   "outputs": [
    {
     "data": {
      "text/plain": "151792"
     },
     "execution_count": 18,
     "metadata": {},
     "output_type": "execute_result"
    }
   ],
   "source": [
    "binary_length = get_bn_len(\"cat.jpeg\")\n",
    "binary_length"
   ]
  },
  {
   "cell_type": "code",
   "execution_count": 26,
   "metadata": {},
   "outputs": [
    {
     "data": {
      "image/png": "[encoded data removed]",
      "text/plain": "<Figure size 432x288 with 1 Axes>"
     },
     "metadata": {
      "needs_background": "light"
     },
     "output_type": "display_data"
    }
   ],
   "source": [
    "gc_list = [i for i in chr_cnt_map.keys()]\n",
    "chr_list = [i for i in chr_cnt_map.values()]\n",
    "raw_bn_list = [binary_length for i in chr_cnt_map.keys()]\n",
    "plt.title(\"Raw Character Comparison\")\n",
    "plt.plot(gc_list, chr_list)\n",
    "plt.plot(gc_list, raw_bn_list)\n",
    "plt.legend([\"Compressed\", \"Raw\"])\n",
    "plt.xlabel(\"Group Constant\")\n",
    "plt.ylabel(\"No. of Characters\")\n",
    "\n",
    "plt.show()"
   ]
  },
  {
   "cell_type": "code",
   "execution_count": 40,
   "metadata": {},
   "outputs": [
    {
     "data": {
      "image/png": "[encoded data removed]",
      "text/plain": "<Figure size 432x288 with 1 Axes>"
     },
     "metadata": {
      "needs_background": "light"
     },
     "output_type": "display_data"
    }
   ],
   "source": [
    "gc_list = [i for i in chr_cnt_map.keys()]\n",
    "chr_list = [i for i in chr_cnt_map.values()]\n",
    "raw_bn_list = [binary_length for i in chr_cnt_map.keys()]\n",
    "percentage_list = [100-(i/j)*100 for i, j in zip(chr_list, raw_bn_list)]\n",
    "zeros_list = [0 for i in chr_cnt_map.keys()]\n",
    "\n",
    "plt.title(\"Character Reduction Performance\")\n",
    "plt.plot(gc_list, percentage_list)\n",
    "plt.plot(gc_list, zeros_list)\n",
    "plt.xlabel(\"Group Constant\")\n",
    "plt.ylabel(\"Reduction (%)\")\n",
    "\n",
    "plt.show()"
   ]
  },
  {
   "cell_type": "code",
   "execution_count": 3,
   "metadata": {},
   "outputs": [],
   "source": [
    "def compress_binary(binary_str: str, group_len: int) -> str:\n",
    "    #grouped binary_str\n",
    "    group_list=list()\n",
    "\n",
    "    #temporarily contains the group\n",
    "    group_temp=str()\n",
    "\n",
    "    #key:group\n",
    "    #value:how much they are repeated\n",
    "    group_repeatance=dict()\n",
    "    enc_list = list()\n",
    "    leftover=str()\n",
    "    #fills group_list\n",
    "    for k in range(len(binary_str)):\n",
    "        group_temp+=binary_str[k]\n",
    "        if k % group_len==group_len-1:\n",
    "            group_list.append(group_temp)\n",
    "            group_temp=\"\"\n",
    "    if len(binary_str)%group_len!=0:\n",
    "        for i in range(len(binary_str)%group_len):\n",
    "            leftover=binary_str[-i]+leftover\n",
    "\n",
    "    \n",
    "    #group_repeatance is filled\n",
    "    for k in group_list:\n",
    "        if k not in group_repeatance.keys():\n",
    "            group_repeatance[k]=1\n",
    "        else:\n",
    "            group_repeatance[k]+=1\n",
    "    \n",
    "    #key_dict is filled\n",
    "    key_dict=sorted(group_repeatance.items(), key= lambda group: group[1], reverse=True)\n",
    "    key_dict=dict(key_dict)\n",
    "    k=0\n",
    "    for i in list(key_dict.keys()):\n",
    "        temp=list(bin(k))\n",
    "        del temp[1]\n",
    "        del temp[0]\n",
    "        compress_code=str()\n",
    "        for j in temp:\n",
    "            compress_code+=j\n",
    "\n",
    "        key_dict.update({i:str(compress_code)})\n",
    "        k+=1\n",
    "    key_dict[leftover]=str(bin(k))[2:]\n",
    "    #binary_str is compressed\n",
    "    compressed_binary_str=str()\n",
    "    for i in group_list:\n",
    "        compressed_binary_str+=key_dict.get(i)\n",
    "        enc_list.append(key_dict.get(i))\n",
    "        if i is not group_list[-1]:\n",
    "            compressed_binary_str+=\" \"\n",
    "    enc_list.append(leftover)\n",
    "    compressed_binary_str+= \" \" + leftover\n",
    "\n",
    "    return key_dict, compressed_binary_str, group_repeatance, enc_list"
   ]
  },
  {
   "cell_type": "code",
   "execution_count": 13,
   "metadata": {},
   "outputs": [],
   "source": [
    "bn_str = \"0000011001101110000100101010100101010100101010101010010101010100101010100101010101\""
   ]
  },
  {
   "cell_type": "code",
   "execution_count": 14,
   "metadata": {},
   "outputs": [],
   "source": [
    "key_dict, cbs, gr, enc_list= compress_binary(bn_str, 10)"
   ]
  },
  {
   "cell_type": "code",
   "execution_count": 92,
   "metadata": {},
   "outputs": [
    {
     "data": {
      "text/plain": "{'1001010101': '0',\n '0000011001': '1',\n '1011100001': '10',\n '0010101010': '11',\n '0101010100': '100',\n '1010101010': '101',\n '0100101010': '110',\n '10': '111'}"
     },
     "execution_count": 92,
     "metadata": {},
     "output_type": "execute_result"
    }
   ],
   "source": [
    "key_dict"
   ]
  },
  {
   "cell_type": "code",
   "execution_count": 15,
   "metadata": {},
   "outputs": [
    {
     "data": {
      "text/plain": "['1', '10', '11', '100', '101', '0', '110', '0', '10']"
     },
     "execution_count": 15,
     "metadata": {},
     "output_type": "execute_result"
    }
   ],
   "source": [
    "enc_list"
   ]
  },
  {
   "cell_type": "code",
   "execution_count": 16,
   "metadata": {},
   "outputs": [
    {
     "data": {
      "text/plain": "'1 10 11 100 101 0 110 0 10'"
     },
     "execution_count": 16,
     "metadata": {},
     "output_type": "execute_result"
    }
   ],
   "source": [
    "cbs"
   ]
  },
  {
   "cell_type": "code",
   "execution_count": 7,
   "metadata": {},
   "outputs": [
    {
     "data": {
      "text/plain": "'11 10010101010 00000110011 101110000110 001010101011 0101010100100 1010101010101 0100101010110 10111'"
     },
     "execution_count": 7,
     "metadata": {},
     "output_type": "execute_result"
    }
   ],
   "source": [
    "key_file = str()\n",
    "gc = str(bin(3)[2:]) + \" \"\n",
    "key_val = str()\n",
    "for i, j in key_dict.items():\n",
    "    if i is not list(key_dict.keys())[-1]:\n",
    "        key_val += f\"{i}{j} \"\n",
    "    else:\n",
    "        key_val += f\"{i}{j}\"\n",
    "key_file += (gc+key_val)\n",
    "key_file"
   ]
  },
  {
   "cell_type": "code",
   "execution_count": 8,
   "metadata": {},
   "outputs": [
    {
     "data": {
      "text/plain": "100"
     },
     "execution_count": 8,
     "metadata": {},
     "output_type": "execute_result"
    }
   ],
   "source": [
    "len(key_file)"
   ]
  },
  {
   "cell_type": "code",
   "execution_count": 4,
   "metadata": {},
   "outputs": [],
   "source": [
    "img = Image.open(\"yujin.bmp\")\n",
    "with open(\"yujin.bmp\", \"rb\") as image:\n",
    "    f = image.read()\n",
    "    b = bytearray(f)\n",
    "    bn_str = ''.join(format(ord(i), '08b') for i in str(b))"
   ]
  },
  {
   "cell_type": "code",
   "execution_count": 5,
   "metadata": {},
   "outputs": [],
   "source": [
    "def to_comp_bn(bn_str, gc):\n",
    "    key_dict, cbs, gr, enc_list = compress_binary(bn_str, gc)\n",
    "    key_file = str()\n",
    "    gc = str(bin(3)[2:]) + \" \"\n",
    "    key_val = str()\n",
    "    for i, j in key_dict.items():\n",
    "        if i is not list(key_dict.keys())[-1]:\n",
    "            key_val += f\"{i}{j} \"\n",
    "        else:\n",
    "            key_val += f\"{i}{j}\"\n",
    "    key_file += (gc+key_val)\n",
    "    return key_file, cbs, enc_list"
   ]
  },
  {
   "cell_type": "code",
   "execution_count": 26,
   "metadata": {},
   "outputs": [],
   "source": [
    "key_file, cbs, enc_list = to_comp_bn(bn_str, 12)"
   ]
  },
  {
   "cell_type": "code",
   "execution_count": 27,
   "metadata": {},
   "outputs": [
    {
     "data": {
      "text/plain": "20414721"
     },
     "execution_count": 27,
     "metadata": {},
     "output_type": "execute_result"
    }
   ],
   "source": [
    "len(key_file) + len(cbs)"
   ]
  },
  {
   "cell_type": "code",
   "execution_count": 28,
   "metadata": {},
   "outputs": [
    {
     "data": {
      "text/plain": "50334408"
     },
     "execution_count": 28,
     "metadata": {},
     "output_type": "execute_result"
    }
   ],
   "source": [
    "len(bn_str)"
   ]
  },
  {
   "cell_type": "code",
   "execution_count": 22,
   "metadata": {},
   "outputs": [],
   "source": [
    "for gc in range(30, 40):\n",
    "    key_file, cbs = to_comp_bn(bn_str, gc)\n",
    "    ratio = str(((len(key_file) + len(cbs))/len(bn_str))*100) + \" %\"\n",
    "    out = f\"GC: {gc}\\nLength: {len(key_file) + len(cbs)}\\nRatio: {ratio}\\n\"\n",
    "    print(out)"
   ]
  },
  {
   "cell_type": "code",
   "execution_count": null,
   "metadata": {},
   "outputs": [],
   "source": [
    "key_file, cbs = to_comp_bn(bn_str, gc)"
   ]
  },
  {
   "cell_type": "code",
   "execution_count": 6,
   "metadata": {},
   "outputs": [],
   "source": [
    "def create_file(bn_str, gc):\n",
    "    path = os.getcwd() + \"/\" + \"extracted_file\n",
    "    os.mkdir(path)\n",
    "    key_file, encrypted, enc_list = to_comp_bn(bn_str, gc)\n",
    "    key_list = key_file.split(\" \")\n",
    "    for i in key_list:\n",
    "        with open(f\"{path}/k{key_list.index(i)}.txt\", \"w\") as f:\n",
    "            f.write(i)\n",
    "    for i in enc_list:\n",
    "        with open(f\"{path}/{enc_list.index(i)}.txt\", \"w\") as f:\n",
    "            f.write(i)\n",
    "    \n",
    "            "
   ]
  },
  {
   "cell_type": "code",
   "execution_count": 7,
   "metadata": {},
   "outputs": [],
   "source": [
    "create_file(bn_str, 24)"
   ]
  },
  {
   "cell_type": "code",
   "execution_count": null,
   "metadata": {},
   "outputs": [],
   "source": [
    "os.mkdir(os.getcwd() + \"/\" + \"extracted_file)\n",
    "with open(f\"1{key_}.txt\", \"w\") as f:\n",
    "    f.write(1)"
   ]
  }
 ],
 "metadata": {
  "kernelspec": {
   "display_name": "Python 3.8.8 64-bit ('base': conda)",
   "name": "python388jvsc74a57bd0dca0ade3e726a953b501b15e8e990130d2b7799f14cfd9f4271676035ebe5511"
  },
  "language_info": {
   "name": "python",
   "version": ""
  },
  "metadata": {
   "interpreter": {
    "hash": "dca0ade3e726a953b501b15e8e990130d2b7799f14cfd9f4271676035ebe5511"
   }
  },
  "orig_nbformat": 2
 },
 "nbformat": 4,
 "nbformat_minor": 2
}